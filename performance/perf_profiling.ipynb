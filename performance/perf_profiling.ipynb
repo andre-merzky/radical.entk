{
 "metadata": {
  "name": "",
  "signature": "sha256:89d6b0783138a7d2a877f2bdcee9f32f9755faa93dfacd63a9a3d9b93f377aaf"
 },
 "nbformat": 3,
 "nbformat_minor": 0,
 "worksheets": [
  {
   "cells": [
    {
     "cell_type": "code",
     "collapsed": false,
     "input": [
      "# Display graphs inline\n",
      "# %matplotlib inline\n",
      "\n",
      "import matplotlib.pyplot as plt\n",
      "from mpltools import style\n",
      "from mpltools import layout\n",
      "\n",
      "# Input data\n",
      "total_rt = [4, 8, 12]\n",
      "stage_rt = [4, 4, 4]\n",
      "kernel_rt = [2, 2, 2]\n",
      "# red_data = [2, 3, 3]\n",
      "labels = ['1', '2', '3']\n",
      "\n",
      "# Setting the positions and width for the bars\n",
      "pos = list(range(len(total_rt))) \n",
      "width = 0.2 \n",
      "    \n",
      "# Plotting the bars\n",
      "fig, ax = plt.subplots(figsize=(8,6))\n",
      "\n",
      "plt.bar(pos, total_rt, width,\n",
      "                 alpha=0.5,\n",
      "                 color='ivory',\n",
      "                 label=labels[0])\n",
      "\n",
      "plt.bar([p + width for p in pos], stage_rt, width,\n",
      "                 alpha=0.5,\n",
      "                 color='coral',\n",
      "                 label=labels[1])\n",
      "    \n",
      "plt.bar([p + width*2 for p in pos], kernel_rt, width,\n",
      "                 yerr=0.5,\n",
      "                 alpha=0.5,\n",
      "                 color='aliceblue',\n",
      "                 label=labels[2])\n",
      "\n",
      "# Setting axis labels and ticks\n",
      "ax.set_ylabel('Runtime in seconds')\n",
      "ax.set_xlabel('Stages')\n",
      "\n",
      "ax.set_title('Pipeline Pattern Timing Profile \\n (Configuration)')\n",
      "ax.set_xticks([p + 1.5 * width for p in pos])\n",
      "ax.set_xticklabels(labels)\n",
      "\n",
      "# Setting the x-axis and y-axis limits\n",
      "plt.xlim(min(pos)-width, max(pos)+width*4)\n",
      "plt.ylim([0, max(total_rt + stage_rt + kernel_rt) * 1.5])\n",
      "\n",
      "# Adding the legend and showing the plot\n",
      "plt.legend(['Stage', 'Kernel', 'Total'], loc='upper left')\n",
      "plt.grid()\n",
      "plt.show()"
     ],
     "language": "python",
     "metadata": {},
     "outputs": [
      {
       "output_type": "stream",
       "stream": "stderr",
       "text": [
        "/Library/Python/2.7/site-packages/mpltools-0.2dev-py2.7.egg/mpltools/style/__init__.py:39: FutureWarning: \n",
        "\n",
        "    The style-sheet functionality in mpltools has been integrated into\n",
        "    Matplotlib >= 1.4. This module will be removed in a future release.\n",
        "\n",
        "    Note that style-sheets used by `matplotlib.style` use the standard\n",
        "    Matplotlib rc-file syntax instead of the INI format used by `mpltools`.\n",
        "    This mostly means un-quoting strings and changing '=' to ':'.\n",
        "\n",
        "\n",
        "  \"\"\", FutureWarning)\n"
       ]
      }
     ],
     "prompt_number": 1
    },
    {
     "cell_type": "code",
     "collapsed": false,
     "input": [],
     "language": "python",
     "metadata": {},
     "outputs": [],
     "prompt_number": 8
    },
    {
     "cell_type": "code",
     "collapsed": false,
     "input": [],
     "language": "python",
     "metadata": {},
     "outputs": []
    }
   ],
   "metadata": {}
  }
 ]
}