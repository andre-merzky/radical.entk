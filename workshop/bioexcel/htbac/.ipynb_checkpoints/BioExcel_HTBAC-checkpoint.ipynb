{
 "cells": [
  {
   "cell_type": "markdown",
   "metadata": {},
   "source": [
    "## Introduction\n",
    "\n",
    "In this notebook, we will share how to create an ESMACS protocol using the EnTK API. \n",
    "We will use a 48k atom system (BRD4-GSK) and assign each simulation to use the NAMD engine\n",
    "\n",
    "**Note**: This notebook is not to be executed. The notebook format allows us to explain  \n",
    "step-by-step. An example that you can run is placed in '../examples/',  please see  \n",
    "the pre-reqs to run the example in the sa folder."
   ]
  },
  {
   "cell_type": "markdown",
   "metadata": {},
   "source": [
    "We know the ESMACS protocol can be represented as:\n",
    "\n",
    "<img style=\"float: left;\" src=\"./BioExcel_HTBAC.jpg\">"
   ]
  },
  {
   "cell_type": "markdown",
   "metadata": {},
   "source": [
    "Let's set start with something simple!\n",
    "\n",
    "We will start with the following constraints/assumptions and extend  \n",
    "as we go forward:\n",
    "\n",
    "* Number of replicas (simulation tasks) = 25\n",
    "* Each simulation runs on 16 cores \n",
    "\n",
    "We will perform the following steps:\n",
    "\n",
    "1. Create a single Pipeline with 4 Stages\n",
    "2. Create stages with the same number of simulation Tasks (25) \n",
    "4. Describe a resource to use for execution\n",
    "5. Submit the Pipeline for execution\n",
    "\n",
    "**Let's start with the code!**"
   ]
  },
  {
   "cell_type": "markdown",
   "metadata": {},
   "source": [
    "## Encoding the ESMACS protocol \n",
    "\n",
    "### Step 0 -- Importing the API objects and set our constants"
   ]
  },
  {
   "cell_type": "code",
   "execution_count": null,
   "metadata": {},
   "outputs": [],
   "source": [
    "from radical.entk import Pipeline, Stage, Task, AppManager\n",
    "# AppManager accepts the Pipeline and resource specification.\n",
    "\n",
    "num_replicas  = 25\n",
    "cores_per_simulation = 16"
   ]
  },
  {
   "cell_type": "markdown",
   "metadata": {},
   "source": [
    "### Step 1 -- Create a Pipeline"
   ]
  },
  {
   "cell_type": "code",
   "execution_count": null,
   "metadata": {},
   "outputs": [],
   "source": [
    "esmacs_pipe = Pipeline()\n",
    "esmacs_pipe.name = 'esmacs'\n",
    "# Names are user-defined, but required when we need to reference data \n",
    "# across tasks. We will see how in a few minutes. "
   ]
  },
  {
   "cell_type": "markdown",
   "metadata": {},
   "source": [
    "### Step 2 -- Create Stage 1 (Minimization) \n",
    "\n",
    "It is important to add the Minimization Stage to the ESMACS Pipeline first!  \n",
    "EnTK will respect the order you specify within a Pipeline."
   ]
  },
  {
   "cell_type": "code",
   "execution_count": null,
   "metadata": {},
   "outputs": [],
   "source": [
    "min_stage = Stage()\n",
    "min_stage.name = 'min'\n",
    "for x in range(num_replicas):\n",
    "    min_task = create_min_task(x)\n",
    "    # We define 'create_min_task()' below\n",
    "\n",
    "    \n",
    "    min_stage.add_tasks(min_task)\n",
    "    # The order in which the tasks are created and added to \n",
    "    # a Stage is not important since they all run concurrently.\n",
    "    \n",
    "esmacs_pipe.add_stages(min_stage)"
   ]
  },
  {
   "cell_type": "markdown",
   "metadata": {},
   "source": [
    "### Defining the functions that create the tasks\n",
    "\n",
    "For the all tasks, we will specify the following properties:\n",
    "\n",
    "* executable\n",
    "* arguments\n",
    "* input data\n",
    "\n",
    "* additional attributes (resource requirements) \n"
   ]
  },
  {
   "cell_type": "code",
   "execution_count": null,
   "metadata": {},
   "outputs": [],
   "source": [
    "def create_min_task(ind):\n",
    "    min_task = Task()\n",
    "    min_task.name = 'min_%s'%ind\n",
    "    min_task.executable = ['namd2']\n",
    "    min_task.arguments = ['esmacs-stage-1.conf'] \n",
    "    min_task.cores = cores_per_simulation\n",
    "    min_task.copy_input_data = []\n",
    "    return min_task"
   ]
  },
  {
   "cell_type": "markdown",
   "metadata": {},
   "source": [
    "### Step 2 -- Create Stage 2 (Equilibration 1) \n",
    "\n",
    "It is important to add the Equilibration Stage to the ESMACS Pipeline first!  \n",
    "EnTK will respect the order you specify within a Pipeline."
   ]
  },
  {
   "cell_type": "code",
   "execution_count": null,
   "metadata": {},
   "outputs": [],
   "source": [
    "eq1_stage = Stage()\n",
    "eq1_stage.name = 'eq1'\n",
    "for x in range(num_replicas):\n",
    "    eq1_task = create_eq1_task()\n",
    "    # We define 'create_eq1_task()' below\n",
    "\n",
    "    \n",
    "    eq1_stage.add_tasks(eq1_task)\n",
    "    # The order in which the tasks are created and added to \n",
    "    # a Stage is not important since they all run concurrently.\n",
    "    \n",
    "esmacs_pipe.add_stages(eq1_stage)"
   ]
  },
  {
   "cell_type": "code",
   "execution_count": null,
   "metadata": {},
   "outputs": [],
   "source": [
    "def create_eq1_task(ind):\n",
    "    eq1_task = Task()\n",
    "    eq1_task.name = 'eq1_%s'%ind\n",
    "    eq1_task.executable = ['namd2']\n",
    "    eq1_task.arguments = ['esmacs-stage-2.conf'] \n",
    "    eq1_task.cores = cores_per_simulation\n",
    "    eq1_task.copy_input_data = []\n",
    "    return eq1_task"
   ]
  },
  {
   "cell_type": "markdown",
   "metadata": {},
   "source": [
    "### Step 3 -- Create Stage 3 (Equilibration 2) \n",
    "\n",
    "It is important to add the Equilibration 2 Stage to the ESMACS Pipeline first!  \n",
    "EnTK will respect the order you specify within a Pipeline."
   ]
  },
  {
   "cell_type": "code",
   "execution_count": null,
   "metadata": {},
   "outputs": [],
   "source": [
    "eq2_stage = Stage()\n",
    "eq2_stage.name = 'eq2'\n",
    "for x in range(num_replicas):\n",
    "    eq2_task = create_eq2_task()\n",
    "    # We define 'create_eq2_task()' below\n",
    "\n",
    "    \n",
    "    eq2_stage.add_tasks(eq2_task)\n",
    "    # The order in which the tasks are created and added to \n",
    "    # a Stage is not important since they all run concurrently.\n",
    "    \n",
    "esmacs_pipe.add_stages(eq2_stage)"
   ]
  },
  {
   "cell_type": "code",
   "execution_count": null,
   "metadata": {},
   "outputs": [],
   "source": [
    "def create_eq2_task(ind):\n",
    "    eq2_task = Task()\n",
    "    eq2_task.name = 'eq2_%s'%ind\n",
    "    eq2_task.executable = ['namd2']\n",
    "    eq2_task.arguments = ['esmacs-stage-3.conf'] \n",
    "    eq2_task.cores = cores_per_simulation\n",
    "    eq2_task.copy_input_data = []\n",
    "    return eq2_task"
   ]
  },
  {
   "cell_type": "markdown",
   "metadata": {},
   "source": [
    "### Step 4 -- Create Stage 4 (Production MD) \n",
    "\n",
    "It is important to add the MD Stage to the ESMACS Pipeline first!  \n",
    "EnTK will respect the order you specify within a Pipeline."
   ]
  },
  {
   "cell_type": "code",
   "execution_count": null,
   "metadata": {},
   "outputs": [],
   "source": [
    "md_stage = Stage()\n",
    "md_stage.name = 'md'\n",
    "for x in range(num_replicas):\n",
    "    md_task = create_md_task()\n",
    "    # We define 'create_md_task()' below\n",
    "\n",
    "    \n",
    "    md_stage.add_tasks(md_task)\n",
    "    # The order in which the tasks are created and added to \n",
    "    # a Stage is not important since they all run concurrently.\n",
    "    \n",
    "esmacs_pipe.add_stages(md_stage)"
   ]
  },
  {
   "cell_type": "code",
   "execution_count": null,
   "metadata": {},
   "outputs": [],
   "source": [
    "def create_md_task(ind):\n",
    "    md_task = Task()\n",
    "    md_task.name = 'md_%s'%ind\n",
    "    md_task.executable = ['namd2']\n",
    "    md_task.arguments = ['esmacs-stage-4.conf'] \n",
    "    md_task.cores = cores_per_simulation\n",
    "    md_task.copy_input_data = []\n",
    "    return md_task"
   ]
  },
  {
   "cell_type": "markdown",
   "metadata": {},
   "source": [
    "### Step 5 -- Describe a resource to use for execution\n",
    "\n",
    "Create a dictionary describing three mandatory keys: **resource**,  \n",
    "**walltime**, and **cpus**. \n",
    "\n",
    "Note that **resource** is 'local.localhost' to execute locally. At the end of  \n",
    "this notebook, we have provided a link to the resources supported by default  \n",
    "along with documentation on how new resources can be supported."
   ]
  },
  {
   "cell_type": "code",
   "execution_count": null,
   "metadata": {},
   "outputs": [],
   "source": [
    "resource_desc = {\n",
    "\n",
    "        'resource': 'local.localhost',\n",
    "        'walltime': 10,\n",
    "        'cpus': 2\n",
    "    }"
   ]
  },
  {
   "cell_type": "markdown",
   "metadata": {},
   "source": [
    "### Step 5 -- Submit the Pipeline for execution\n",
    "\n",
    "We create an AppManager object, provide with the resource description and  \n",
    "the ESMACS Pipeline. We then run our application."
   ]
  },
  {
   "cell_type": "code",
   "execution_count": null,
   "metadata": {},
   "outputs": [],
   "source": [
    "amgr = AppManager()\n",
    "amgr.resource_desc = resource_desc\n",
    "amgr.workflow = [esmacs_pipe]\n",
    "amgr.run()"
   ]
  },
  {
   "cell_type": "markdown",
   "metadata": {},
   "source": [
    "We are almost done with our complete EnTK script! \n",
    "\n",
    "The above five steps create our ESMACS protocol with EnTK.  \n",
    "We create one Pipeline with four Stages: minimization, equilibration 1, equilibration 2, production MD  \n",
    "Each stage consists of 25 tasks. \n",
    "\n",
    "Now let's complete the script by specifying the task creation functions."
   ]
  },
  {
   "cell_type": "markdown",
   "metadata": {},
   "source": [
    "## That's all folks!"
   ]
  },
  {
   "cell_type": "markdown",
   "metadata": {},
   "source": [
    "## Additional Information:"
   ]
  },
  {
   "cell_type": "markdown",
   "metadata": {},
   "source": [
    "* EnTK Documentation: https://radicalentk.readthedocs.io/\n",
    "* EnTK Repository: https://github.com/radical-cybertools/radical.entk\n",
    "* Installation instructions: https://radicalentk.readthedocs.io/en/latest/install.html\n",
    "* User Guide: https://radicalentk.readthedocs.io/en/latest/user_guide.html\n",
    "* Adaptive examples: https://radicalentk.readthedocs.io/en/latest/advanced_examples.html"
   ]
  },
  {
   "cell_type": "markdown",
   "metadata": {},
   "source": [
    "Please feel free to ask any questions now or drop us a question either via our \n",
    "[mailing list](https://groups.google.com/d/forum/ensemble-toolkit-users) or [GitHub issues](https://github.com/radical-cybertools/radical.entk/issues)"
   ]
  },
  {
   "cell_type": "code",
   "execution_count": null,
   "metadata": {},
   "outputs": [],
   "source": []
  }
 ],
 "metadata": {
  "kernelspec": {
   "display_name": "Python 2",
   "language": "python",
   "name": "python2"
  },
  "language_info": {
   "codemirror_mode": {
    "name": "ipython",
    "version": 2
   },
   "file_extension": ".py",
   "mimetype": "text/x-python",
   "name": "python",
   "nbconvert_exporter": "python",
   "pygments_lexer": "ipython2",
   "version": "2.7.12"
  }
 },
 "nbformat": 4,
 "nbformat_minor": 2
}
