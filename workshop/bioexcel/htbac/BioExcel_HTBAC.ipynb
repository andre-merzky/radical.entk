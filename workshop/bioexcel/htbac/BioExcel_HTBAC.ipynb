{
 "cells": [
  {
   "cell_type": "markdown",
   "metadata": {},
   "source": [
    "## Introduction\n",
    "\n",
    "In this notebook, we will share how to create two protocols (ESMACS and TIES) using the EnTK API. \n",
    "Each protocol will run simulations for different physical systems. Here, we will use two different 48k atom systems from the BRD4-GSK library and assign each simulation to use the NAMD engine.\n",
    "\n",
    "**Note**: This notebook is not to be executed. The notebook format allows us to explain  \n",
    "step-by-step. An example that you can run is placed in 'radical.entk/examples/'. "
   ]
  },
  {
   "cell_type": "markdown",
   "metadata": {},
   "source": [
    "Let's set start with something simple!\n",
    "\n",
    "We will start with the following constraints/assumptions and extend  \n",
    "as we go forward:\n",
    "\n",
    "* Number of replicas (ESMACS) = 25\n",
    "* Number of replicas (TIES) = 5\n",
    "* Number of lambda windows = 13\n",
    "* Each simulation runs on 16 cores \n",
    "\n",
    "For each ESMACS/TIES protocol we will perform the following steps:\n",
    "\n",
    "1. Create a single Pipeline with 4 Stages\n",
    "2. Create stages with the same number of Tasks (25 for ESMACS, 65 for TIES) \n",
    "4. Describe a resource to use for execution\n",
    "5. Submit the Pipeline for execution\n",
    "\n",
    "**Let's start with the code!**"
   ]
  },
  {
   "cell_type": "markdown",
   "metadata": {},
   "source": [
    "## Encoding the ESMACS protocol \n",
    "\n",
    "### Step 0 -- Importing the API objects and set our constants"
   ]
  },
  {
   "cell_type": "code",
   "execution_count": null,
   "metadata": {},
   "outputs": [],
   "source": [
    "from radical.entk import Pipeline, Stage, Task, AppManager\n",
    "# AppManager accepts the Pipeline and resource specification.\n",
    "\n",
    "num_replicas_esmacs  = 25\n",
    "cores_per_simulation = 16"
   ]
  },
  {
   "cell_type": "markdown",
   "metadata": {},
   "source": [
    "### Step 1 -- Create an ESMACS Pipeline For System: BRD_GSK_3_4"
   ]
  },
  {
   "cell_type": "code",
   "execution_count": null,
   "metadata": {},
   "outputs": [],
   "source": [
    "esmacs_pipe = Pipeline()\n",
    "esmacs_pipe.name = 'esmacs_brd_gsk_3_4'\n",
    "# Names are user-defined, but required when we need to reference data \n",
    "# across tasks. We will see how in a few minutes. "
   ]
  },
  {
   "cell_type": "markdown",
   "metadata": {},
   "source": [
    "### Step 2 -- Create Stage 1 (Minimization) \n",
    "\n",
    "It is important to add the Minimization Stage to the ESMACS Pipeline first!  \n",
    "EnTK will respect the order you specify within a Pipeline."
   ]
  },
  {
   "cell_type": "code",
   "execution_count": null,
   "metadata": {},
   "outputs": [],
   "source": [
    "esmacs_min_stage = Stage()\n",
    "esmacs_min_stage.name = 'esmacs-min-brd-gsk-3-4'\n",
    "for x in range(num_replicas_esmacs):\n",
    "    esmacs_min_task = create_esmacs_min_task(x)\n",
    "    # We define 'create_min_task()' below\n",
    "\n",
    "    \n",
    "    esmacs_min_stage.add_tasks(esmacs_min_task)\n",
    "    # The order in which the tasks are created and added to \n",
    "    # a Stage is not important since they all run concurrently.\n",
    "    \n",
    "esmacs_pipe.add_stages(esmacs_min_stage)"
   ]
  },
  {
   "cell_type": "markdown",
   "metadata": {},
   "source": [
    "### Defining the functions that create the tasks\n",
    "\n",
    "For the all tasks, we will specify the following properties:\n",
    "\n",
    "* executable\n",
    "* arguments\n",
    "* input data\n",
    "\n",
    "* additional attributes (resource requirements) \n"
   ]
  },
  {
   "cell_type": "code",
   "execution_count": null,
   "metadata": {},
   "outputs": [],
   "source": [
    "def create_esmacs_min_task(ind):\n",
    "    esmacs_min_task = Task()\n",
    "    esmacs_min_task.name = 'esmacs_min_%s'%ind\n",
    "    esmacs_min_task.executable = ['namd2']\n",
    "    esmacs_min_task.arguments = ['esmacs-brd-gsk-3-4-stage-1.conf'] \n",
    "    esmacs_min_task.cores = cores_per_simulation\n",
    "    esmacs_min_task.copy_input_data = []\n",
    "    return esmacs_min_task"
   ]
  },
  {
   "cell_type": "markdown",
   "metadata": {},
   "source": [
    "### Step 2 -- Create Stage 2 (Equilibration 1) \n",
    "\n",
    "It is important to add the Equilibration Stage to the ESMACS Pipeline first!  \n",
    "EnTK will respect the order you specify within a Pipeline."
   ]
  },
  {
   "cell_type": "code",
   "execution_count": null,
   "metadata": {},
   "outputs": [],
   "source": [
    "esmacs_eq1_stage = Stage()\n",
    "esmacs_eq1_stage.name = 'esmacs-eq1-brd-gsk-3-4'\n",
    "for x in range(num_replicas_esmacs):\n",
    "    esmacs_eq1_task = create_esmacs_eq1_task()\n",
    "    # We define 'create_esmacs_eq1_task()' below\n",
    "\n",
    "    \n",
    "    esmacs_eq1_stage.add_tasks(esmacs_eq1_task)\n",
    "    # The order in which the tasks are created and added to \n",
    "    # a Stage is not important since they all run concurrently.\n",
    "    \n",
    "esmacs_pipe.add_stages(esmacs_eq1_stage)"
   ]
  },
  {
   "cell_type": "code",
   "execution_count": null,
   "metadata": {},
   "outputs": [],
   "source": [
    "def create_esmacs_eq1_task(ind):\n",
    "    esmacs_eq1_task = Task()\n",
    "    esmacs_eq1_task.name = 'esmacs_eq1_%s'%ind\n",
    "    esmacs_eq1_task.executable = ['namd2']\n",
    "    esmacs_eq1_task.arguments = ['esmacs-brd-gsk-3-4-stage-2.conf'] \n",
    "    esmacs_eq1_task.cores = cores_per_simulation\n",
    "    esmacs_eq1_task.copy_input_data = []\n",
    "    return esmacs_eq1_task"
   ]
  },
  {
   "cell_type": "markdown",
   "metadata": {},
   "source": [
    "### Step 3 -- Create Stage 3 (Equilibration 2) \n",
    "\n",
    "It is important to add the Equilibration 2 Stage to the ESMACS Pipeline first!  \n",
    "EnTK will respect the order you specify within a Pipeline."
   ]
  },
  {
   "cell_type": "code",
   "execution_count": null,
   "metadata": {},
   "outputs": [],
   "source": [
    "esmacs_eq2_stage = Stage()\n",
    "esmacs_eq2_stage.name = 'esmacs-eq2-brd-gsk-3-4'\n",
    "for x in range(num_replicas_esmacs):\n",
    "    esmacs_eq2_task = create_esmacs_eq2_task()\n",
    "    # We define 'create_esmacs_eq2_task()' below\n",
    "\n",
    "    \n",
    "    esmacs_eq2_stage.add_tasks(esmacs_eq2_task)\n",
    "    # The order in which the tasks are created and added to \n",
    "    # a Stage is not important since they all run concurrently.\n",
    "    \n",
    "esmacs_pipe.add_stages(esmacs_eq2_stage)"
   ]
  },
  {
   "cell_type": "code",
   "execution_count": null,
   "metadata": {},
   "outputs": [],
   "source": [
    "def create_esmacs_eq2_task(ind):\n",
    "    esmacs_eq2_task = Task()\n",
    "    esmacs_eq2_task.name = 'esmacs_eq2_%s'%ind\n",
    "    esmacs_eq2_task.executable = ['namd2']\n",
    "    esmacs_eq2_task.arguments = ['esmacs-brd-gsk-3-4-stage-3.conf'] \n",
    "    esmacs_eq2_task.cores = cores_per_simulation\n",
    "    esmacs_eq2_task.copy_input_data = []\n",
    "    return esmacs_eq2_task"
   ]
  },
  {
   "cell_type": "markdown",
   "metadata": {},
   "source": [
    "### Step 4 -- Create Stage 4 (Production MD) \n",
    "\n",
    "It is important to add the MD Stage to the ESMACS Pipeline first!  \n",
    "EnTK will respect the order you specify within a Pipeline."
   ]
  },
  {
   "cell_type": "code",
   "execution_count": null,
   "metadata": {},
   "outputs": [],
   "source": [
    "esmacs_md_stage = Stage()\n",
    "esmacs_md_stage.name = 'esmacs-md-brd-gsk-3-4'\n",
    "for x in range(num_replicas_esmacs):\n",
    "    esmacs_md_task = create_esmacs_md_task()\n",
    "    # We define 'create_esmacs_md_task()' below\n",
    "\n",
    "    \n",
    "    esmacs_md_stage.add_tasks(esmacs_md_task)\n",
    "    # The order in which the tasks are created and added to \n",
    "    # a Stage is not important since they all run concurrently.\n",
    "    \n",
    "esmacs_pipe.add_stages(esmacs_md_stage)"
   ]
  },
  {
   "cell_type": "code",
   "execution_count": null,
   "metadata": {},
   "outputs": [],
   "source": [
    "def create_esmacs_md_task(ind):\n",
    "    esmacs_md_task = Task()\n",
    "    esmacs_md_task.name = 'esmacs_md_%s'%ind\n",
    "    esmacs_md_task.executable = ['namd2']\n",
    "    esmacs_md_task.arguments = ['esmacs-brd-gsk-3-4-stage-4.conf'] \n",
    "    esmacs_md_task.cores = cores_per_simulation\n",
    "    esmacs_md_task.copy_input_data = []\n",
    "    return esmacs_md_task"
   ]
  },
  {
   "cell_type": "markdown",
   "metadata": {},
   "source": [
    "## Encoding the TIES protocol \n",
    "\n",
    "### Step 0 -- Set our constants\n"
   ]
  },
  {
   "cell_type": "code",
   "execution_count": null,
   "metadata": {},
   "outputs": [],
   "source": [
    "num_replicas_ties  = 5\n",
    "num_lambda_windows  = 13\n",
    "cores_per_simulation = 16"
   ]
  },
  {
   "cell_type": "markdown",
   "metadata": {},
   "source": [
    "### Step 1 -- Create an TIES Pipeline For System: BRD_GSK_3_7\n"
   ]
  },
  {
   "cell_type": "code",
   "execution_count": null,
   "metadata": {},
   "outputs": [],
   "source": [
    "ties_pipe = Pipeline()\n",
    "ties_pipe.name = 'ties_brd_gsk_3_7'\n",
    "# Names are user-defined, but required when we need to reference data \n",
    "# across tasks. We will see how in a few minutes. "
   ]
  },
  {
   "cell_type": "markdown",
   "metadata": {},
   "source": [
    "### Step 2 -- Create Stage 1 (Equilibration) \n",
    "\n",
    "It is important to add the Equilibration Stage to the TIES Pipeline first!  \n",
    "EnTK will respect the order you specify within a Pipeline."
   ]
  },
  {
   "cell_type": "code",
   "execution_count": null,
   "metadata": {},
   "outputs": [],
   "source": [
    "ties_eq_stage = Stage()\n",
    "ties_eq_stage.name = 'ties-eq-brd-gsk-3-7'\n",
    "for x in range(num_replicas_ties):\n",
    "    for y in range(num_lambda_windows): \n",
    "        ties_eq_task = create_ties_eq_task(x,y)\n",
    "        # We define 'create_ties_eq_task()' below\n",
    "    \n",
    "        ties_eq_stage.add_tasks(ties_eq_task)\n",
    "        # The order in which the tasks are created and added to \n",
    "        # a Stage is not important since they all run concurrently.\n",
    "\n",
    "ties_pipe.add_stages(ties_eq_stage)"
   ]
  },
  {
   "cell_type": "code",
   "execution_count": null,
   "metadata": {},
   "outputs": [],
   "source": [
    "def create_ties_eq_task(replica,lambda_value):\n",
    "    ties_eq_task = Task()\n",
    "    ties_eq_task.name = 'ties_eq_rep_%s_lambda_%s'%replica,lambda_value\n",
    "    ties_eq_task.executable = ['namd2']\n",
    "    ties_eq_task.arguments = ['ties-brd-gsk-3-7-stage-1.conf'] \n",
    "    ties_eq_task.cores = cores_per_simulation\n",
    "    ties_eq_task.copy_input_data = []\n",
    "    return ties_eq_task"
   ]
  },
  {
   "cell_type": "markdown",
   "metadata": {},
   "source": [
    "### Step 3 -- Create Stage 2 (Production MD) \n",
    "\n",
    "It is important to add the Production MD Stage to the TIES Pipeline first!  \n",
    "EnTK will respect the order you specify within a Pipeline."
   ]
  },
  {
   "cell_type": "code",
   "execution_count": null,
   "metadata": {},
   "outputs": [],
   "source": [
    "ties_md_stage = Stage()\n",
    "ties_md_stage.name = 'ties-md-brd-gsk-3-7'\n",
    "for x in range(num_replicas_ties):\n",
    "    for y in range(num_lambda_windows): \n",
    "        ties_md_task = create_ties_md_task(x,y)\n",
    "        # We define 'create_ties_md_task()' below\n",
    "    \n",
    "        ties_md_stage.add_tasks(ties_md_task)\n",
    "        # The order in which the tasks are created and added to \n",
    "        # a Stage is not important since they all run concurrently.\n",
    "\n",
    "ties_pipe.add_stages(ties_md_stage)"
   ]
  },
  {
   "cell_type": "code",
   "execution_count": null,
   "metadata": {},
   "outputs": [],
   "source": [
    "def create_ties_md_task(replica,lambda_value):\n",
    "    ties_md_task = Task()\n",
    "    ties_md_task.name = 'ties_md_rep_%s_lambda_%s'%replica,lambda_value\n",
    "    ties_md_task.executable = ['namd2']\n",
    "    ties_md_task.arguments = ['ties-brd-gsk-3-7-stage-2.conf'] \n",
    "    ties_md_task.cores = cores_per_simulation\n",
    "    ties_md_task.copy_input_data = []\n",
    "    return ties_md_task"
   ]
  },
  {
   "cell_type": "markdown",
   "metadata": {},
   "source": [
    "### Describe a resource to use for execution\n",
    "\n",
    "Create a dictionary describing three mandatory keys: **resource**,  \n",
    "**walltime**, and **cpus**. \n",
    "\n",
    "Note that **resource** is 'local.localhost' to execute locally. At the end of  \n",
    "this notebook, we have provided a link to the resources supported by default  \n",
    "along with documentation on how new resources can be supported."
   ]
  },
  {
   "cell_type": "code",
   "execution_count": null,
   "metadata": {},
   "outputs": [],
   "source": [
    "resource_desc = {\n",
    "\n",
    "        'resource': 'local.localhost',\n",
    "        'walltime': 10,\n",
    "        'cpus': 2\n",
    "    }"
   ]
  },
  {
   "cell_type": "markdown",
   "metadata": {},
   "source": [
    "### Submit the ESMACS and TIES Pipelines for execution\n",
    "\n",
    "We create an AppManager object, provide with the resource description and  \n",
    "the ESMACS and TIES Pipelines. We then run our application."
   ]
  },
  {
   "cell_type": "code",
   "execution_count": null,
   "metadata": {},
   "outputs": [],
   "source": [
    "amgr = AppManager()\n",
    "amgr.resource_desc = resource_desc\n",
    "amgr.workflow = set([esmacs_pipe,ties_pipe])\n",
    "amgr.run()"
   ]
  },
  {
   "cell_type": "markdown",
   "metadata": {},
   "source": [
    "We are almost done with our complete EnTK script! \n",
    "\n",
    "The above steps create our ESMACS and TIES protocols with EnTK.  \n",
    "For ESMACS: we create one Pipeline with four Stages: minimization, equilibration 1, equilibration 2, production MD  \n",
    "Each stage consists of 25 tasks. \n",
    "\n",
    "For TIES: we create one Pipeline with two Stages: equilibration, production MD  \n",
    "Each stage consists of 65 tasks. \n",
    "\n",
    "Now let's complete the script by specifying the task creation functions."
   ]
  },
  {
   "cell_type": "markdown",
   "metadata": {},
   "source": [
    "## That's all folks!"
   ]
  },
  {
   "cell_type": "markdown",
   "metadata": {},
   "source": [
    "## Additional Information:"
   ]
  },
  {
   "cell_type": "markdown",
   "metadata": {},
   "source": [
    "* EnTK Documentation: https://radicalentk.readthedocs.io/\n",
    "* EnTK Repository: https://github.com/radical-cybertools/radical.entk\n",
    "* Installation instructions: https://radicalentk.readthedocs.io/en/latest/install.html\n",
    "* User Guide: https://radicalentk.readthedocs.io/en/latest/user_guide.html\n",
    "* Adaptive examples: https://radicalentk.readthedocs.io/en/latest/advanced_examples.html"
   ]
  },
  {
   "cell_type": "markdown",
   "metadata": {},
   "source": [
    "Please feel free to ask any questions now or drop us a question either via our \n",
    "[mailing list](https://groups.google.com/d/forum/ensemble-toolkit-users) or [GitHub issues](https://github.com/radical-cybertools/radical.entk/issues)"
   ]
  },
  {
   "cell_type": "code",
   "execution_count": null,
   "metadata": {},
   "outputs": [],
   "source": []
  }
 ],
 "metadata": {
  "kernelspec": {
   "display_name": "Python 2",
   "language": "python",
   "name": "python2"
  },
  "language_info": {
   "codemirror_mode": {
    "name": "ipython",
    "version": 2
   },
   "file_extension": ".py",
   "mimetype": "text/x-python",
   "name": "python",
   "nbconvert_exporter": "python",
   "pygments_lexer": "ipython2",
   "version": "2.7.12"
  }
 },
 "nbformat": 4,
 "nbformat_minor": 2
}
