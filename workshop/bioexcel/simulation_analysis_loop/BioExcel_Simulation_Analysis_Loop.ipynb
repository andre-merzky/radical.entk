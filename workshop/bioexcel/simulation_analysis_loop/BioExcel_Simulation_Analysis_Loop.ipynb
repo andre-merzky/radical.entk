{
 "cells": [
  {
   "cell_type": "markdown",
   "metadata": {},
   "source": [
    "## Introduction\n",
    "\n",
    "In this notebook, we will share how to create the Simulation Analysis Loop pattern  \n",
    "using the EnTK API. We will use a small alanine dipeptide system and implement  \n",
    "the Gromacs-LSDMap algorithm that you saw in the presentation.\n",
    "\n",
    "\n",
    "**Note**: This notebook is not to be executed. The notebook format allows us to explain  \n",
    "step-by-step. An example that you can run is placed in '../examples/',  please see  \n",
    "the pre-reqs to run the example in the sa folder."
   ]
  },
  {
   "cell_type": "markdown",
   "metadata": {},
   "source": [
    "We know the Simulation Analysis Loop can be represented as:\n",
    "\n",
    "<img style=\"float: left;\" src=\"./Simulation_Analysis_Loop_pattern.jpg\">"
   ]
  },
  {
   "cell_type": "markdown",
   "metadata": {},
   "source": [
    "Let's set start with something simple!\n",
    "\n",
    "We will start with the following constraints/assumptions and extend  \n",
    "as we go forward:\n",
    "\n",
    "* Number of iterations = 1\n",
    "* Number of simulation tasks = 16\n",
    "* Number of analysis tasks = 1\n",
    "\n",
    "\n",
    "We will perform the following steps:\n",
    "\n",
    "1. Create a Pipeline\n",
    "2. Create a Stage with Simulation Tasks\n",
    "3. Create a Stage with Analysis Tasks\n",
    "4. Describe a resource to use for execution\n",
    "5. Submit the Pipeline for execution\n",
    "\n",
    "**Let's start with the code!**"
   ]
  },
  {
   "cell_type": "markdown",
   "metadata": {},
   "source": [
    "## Encoding the Simulation Analysis Loop pattern\n",
    "\n",
    "### Step 0 -- Importing the API objects and set our constants"
   ]
  },
  {
   "cell_type": "code",
   "execution_count": 25,
   "metadata": {},
   "outputs": [],
   "source": [
    "from radical.entk import Pipeline, Stage, Task, AppManager\n",
    "# AppManager accepts the Pipeline and resource specification.\n",
    "\n",
    "num_iterations = 1\n",
    "num_sim_tasks  = 16\n",
    "num_ana_tasks  = 1"
   ]
  },
  {
   "cell_type": "markdown",
   "metadata": {},
   "source": [
    "### Step 1 -- Create a Pipeline"
   ]
  },
  {
   "cell_type": "code",
   "execution_count": 33,
   "metadata": {},
   "outputs": [],
   "source": [
    "sal_pipe = Pipeline()\n",
    "sal_pipe.name = 'sal'\n",
    "# Names are user-defined, but required when we need to reference data \n",
    "# across tasks. We will see how in a few minutes. "
   ]
  },
  {
   "cell_type": "markdown",
   "metadata": {},
   "source": [
    "### Step 2 -- Create a Stage with Simulation Tasks\n",
    "\n",
    "It is important to add the Simulation Stage to the SAL Pipeline first!  \n",
    "EnTK will respect the order you specify within a Pipeline."
   ]
  },
  {
   "cell_type": "code",
   "execution_count": 26,
   "metadata": {},
   "outputs": [],
   "source": [
    "sim_stage = Stage()\n",
    "sim_stage.name = 'gmx'\n",
    "for x in range(num_sim_tasks):\n",
    "    sim_task = create_gromacs_task()\n",
    "    # We will define 'create_gromacs_task()' in a few minutes\n",
    "    # We decouple the specification of the task from the \n",
    "    # creation of the Simulation Analysis Loop, and keep the\n",
    "    # focus on the latter.\n",
    "    \n",
    "    sim_stage.add_tasks(sim_task)\n",
    "    # The order in which the tasks are created and added to \n",
    "    # a Stage are not important since they all run concurrently.\n",
    "    \n",
    "sal_pipe.add_stages(sim_stage)"
   ]
  },
  {
   "cell_type": "markdown",
   "metadata": {},
   "source": [
    "### Step 3 -- Create a Stage with Analysis Tasks\n",
    "\n",
    "It is important to add the Analysis Stage to the SAL Pipeline second!  \n",
    "EnTK will respect the order you specify within a Pipeline."
   ]
  },
  {
   "cell_type": "code",
   "execution_count": 27,
   "metadata": {},
   "outputs": [],
   "source": [
    "ana_stage = Stage()\n",
    "ana_stage.name = 'lsdm'\n",
    "for x in range(num_ana_tasks):\n",
    "    ana_task = create_lsdmap_task()\n",
    "    # We will define 'create_lsdmap_task()' in a few minutes\n",
    "    # We decouple the specification of the task from the \n",
    "    # creation of the Simulation Analysis Loop, and keep the\n",
    "    # focus on the latter.\n",
    "    \n",
    "    ana_stage.add_tasks(ana_task)\n",
    "    # The order in which the tasks are created and added to \n",
    "    # a Stage are not important since they all run concurrently.\n",
    "    \n",
    "sal_pipe.add_stages(ana_stage)"
   ]
  },
  {
   "cell_type": "markdown",
   "metadata": {},
   "source": [
    "### Step 4 -- Describe a resource to use for execution\n",
    "\n",
    "Create a dictionary describing three mandatory keys: **resource**,  \n",
    "**walltime**, and **cpus**. \n",
    "\n",
    "Note that **resource** is 'local.localhost' to execute locally. At the end of  \n",
    "this notebook, we have provided a link to the resources supported by default  \n",
    "along with documentation on how new resources can be supported."
   ]
  },
  {
   "cell_type": "code",
   "execution_count": 28,
   "metadata": {},
   "outputs": [],
   "source": [
    "resource_desc = {\n",
    "\n",
    "        'resource': 'local.localhost',\n",
    "        'walltime': 10,\n",
    "        'cpus': 2\n",
    "    }"
   ]
  },
  {
   "cell_type": "markdown",
   "metadata": {},
   "source": [
    "### Step 5 -- Submit the Pipeline for execution\n",
    "\n",
    "We create an AppManager object, provide with the resource description and  \n",
    "the SAL Pipeline. We then run our application."
   ]
  },
  {
   "cell_type": "code",
   "execution_count": 22,
   "metadata": {},
   "outputs": [],
   "source": [
    "amgr = AppManager()\n",
    "amgr.resource_desc = resource_desc\n",
    "amgr.workflow = [sal_pipe]\n",
    "amgr.run()"
   ]
  },
  {
   "cell_type": "markdown",
   "metadata": {},
   "source": [
    "We are almost done with our complete EnTK script! \n",
    "\n",
    "The above five steps create our Simulation Analysis Loop pattern with EnTK.  \n",
    "We create one Pipeline with one Simulation stage followed by one Analysis stage.    \n",
    "The Simulation stage consists of  16 tasks and the Analysis stage consists of 1 task.\n",
    "\n",
    "Now let's complete the script by specifying the task creation functions."
   ]
  },
  {
   "cell_type": "markdown",
   "metadata": {},
   "source": [
    "### Defining the functions that create the tasks\n",
    "\n",
    "For the two different types of tasks, we will specify the following properties:\n",
    "\n",
    "* executable\n",
    "* arguments\n",
    "* input data\n",
    "\n",
    "For simplicity, let's assume the input data for the simulation task is available  \n",
    "at '/tmp/'.  Our simulation task can specified as follows:"
   ]
  },
  {
   "cell_type": "code",
   "execution_count": 29,
   "metadata": {},
   "outputs": [],
   "source": [
    "def create_gromacs_task(ind):\n",
    "    gmx_task = Task()\n",
    "    gmx_task.name = 'sim_%s'%ind\n",
    "    gmx_task.executable = ['gmx mdrun']\n",
    "    gmx_task.arguments = []\n",
    "    gmx_task.copy_input_data = []\n",
    "    return gmx_task"
   ]
  },
  {
   "cell_type": "markdown",
   "metadata": {},
   "source": [
    "Next, we will specify the analysis task. Note how the output files of the simulation task  \n",
    "are described as input to the analysis task."
   ]
  },
  {
   "cell_type": "code",
   "execution_count": 30,
   "metadata": {},
   "outputs": [],
   "source": [
    "def create_lsdmap_task():\n",
    "    lsdm_task = Task()\n",
    "    lsdm_task.executable = ['lsdmap']\n",
    "    lsdm_task.arguments = []\n",
    "    for ind in range(num_sim_tasks):\n",
    "        sim_task_name = 'sim-%s'%ind\n",
    "        sim_task_ref = '$Pipeline_%s_Stage_%s_Task_%s' % (sal_pipe.name, sim_stage.name,sim_task_name)\n",
    "        lsdm_task.copy_input_data.append(sim_task_ref)\n",
    "    return lsdm_task"
   ]
  },
  {
   "cell_type": "markdown",
   "metadata": {},
   "source": [
    "## That's all folks!"
   ]
  },
  {
   "cell_type": "markdown",
   "metadata": {},
   "source": [
    "## Additional Information:"
   ]
  },
  {
   "cell_type": "markdown",
   "metadata": {},
   "source": [
    "* EnTK Documentation: https://radicalentk.readthedocs.io/\n",
    "* EnTK Repository: https://github.com/radical-cybertools/radical.entk\n",
    "* Installation instructions: https://radicalentk.readthedocs.io/en/latest/install.html\n",
    "* User Guide: https://radicalentk.readthedocs.io/en/latest/user_guide.html\n",
    "* Adaptive examples: https://radicalentk.readthedocs.io/en/latest/advanced_examples.html"
   ]
  },
  {
   "cell_type": "markdown",
   "metadata": {},
   "source": [
    "Please feel free to ask any questions now or drop us a question either via our \n",
    "[mailing list](https://groups.google.com/d/forum/ensemble-toolkit-users) or [GitHub issues](https://github.com/radical-cybertools/radical.entk/issues)"
   ]
  },
  {
   "cell_type": "code",
   "execution_count": null,
   "metadata": {},
   "outputs": [],
   "source": []
  }
 ],
 "metadata": {
  "kernelspec": {
   "display_name": "Python 2",
   "language": "python",
   "name": "python2"
  },
  "language_info": {
   "codemirror_mode": {
    "name": "ipython",
    "version": 2
   },
   "file_extension": ".py",
   "mimetype": "text/x-python",
   "name": "python",
   "nbconvert_exporter": "python",
   "pygments_lexer": "ipython2",
   "version": "2.7.15"
  }
 },
 "nbformat": 4,
 "nbformat_minor": 2
}
