{
 "metadata": {
  "name": "",
  "signature": "sha256:b2ced28ede0cd5c3f81b68cc33bbe4900e298c491bf5ccedd238b58a201f91ae"
 },
 "nbformat": 3,
 "nbformat_minor": 0,
 "worksheets": [
  {
   "cells": [
    {
     "cell_type": "code",
     "collapsed": false,
     "input": [
      "import pandas as pd\n",
      "import urllib\n",
      "import datetime\n",
      "\n",
      "\n",
      "def timer(url,psize,esize):\n",
      "    filename = \"p{0}e{1}.data\".format(psize,esize)\n",
      "    testfile = urllib.URLopener()\n",
      "    testfile.retrieve(url,filename)\n",
      "    f = open(filename,'r')\n",
      "    data = f.readlines()[2:]\n",
      "\n",
      "    sim_1 = []\n",
      "    ana_1 = []\n",
      "    sim_2 = []\n",
      "    ana_2 = []\n",
      "\n",
      "    for row in data:\n",
      "    \n",
      "        unit,start,end,step,itr,inst = row.split(';')\n",
      "        try:\n",
      "            start = datetime.datetime.strptime(start.strip(), \"%Y-%m-%d %H:%M:%S.%f\")\n",
      "        except ValueError:\n",
      "            start = datetime.datetime.strptime(start.strip(), \"%Y-%m-%d %H:%M:%S\")\n",
      "        try:\n",
      "            end = datetime.datetime.strptime(end.strip(), \"%Y-%m-%d %H:%M:%S.%f\")\n",
      "        except ValueError:\n",
      "            end = datetime.datetime.strptime(end.strip(), \"%Y-%m-%d %H:%M:%S\")\n",
      "\n",
      "        k=datetime.datetime(1970,1,1)    \n",
      "            \n",
      "        if step.strip() == 'sim' and itr.strip() == '1':\n",
      "            sim_1.append((end-k).total_seconds())\n",
      "            sim_1.append((start-k).total_seconds())\n",
      "        elif step.strip() == 'ana' and itr.strip() == '1':\n",
      "            ana_1.append((end-k).total_seconds())\n",
      "            ana_1.append((start-k).total_seconds())\n",
      "        elif step.strip() == 'sim' and itr.strip() == '2':\n",
      "            sim_2.append((end-k).total_seconds())\n",
      "            sim_2.append((start-k).total_seconds())\n",
      "        elif step.strip() == 'ana' and itr.strip() == '2':\n",
      "            ana_2.append((end-k).total_seconds())\n",
      "            ana_2.append((start-k).total_seconds())\n",
      "    \n",
      "    return [max(sim_1)-min(sim_1),max(ana_1)-min(ana_1),max(sim_2)-min(sim_2),max(ana_2)-min(ana_2)]\n",
      "            \n",
      "if __name__ == '__main__':\n",
      "    \n",
      "    urls = ['https://gist.githubusercontent.com/vivek-bala/97b442dad390a658cae9/raw/02b3572d8579c812a9fedb29cd3ac95fdaff507a/enmd_grlsd_stampede_p16_e16',\n",
      "            'https://gist.githubusercontent.com/vivek-bala/8657d7abc14abc0418a5/raw/08de756bba78d2922d22b371f9ef5e4c000ff472/enmd_grlsd_stampede_p16_e32',\n",
      "            'https://gist.githubusercontent.com/vivek-bala/78dfd539ac41860e1d3e/raw/f059fc1e7ec58766b26ca68598ee88a658c3aab0/enmd_grlsd_stampede_p16_e64',\n",
      "            'https://gist.githubusercontent.com/vivek-bala/f6f8557e0c79659cea89/raw/885c280d38947e3fc49edf4ab3cd783e5cfe29fd/enmd_grlsd_stampede_p16_e128',\n",
      "            'https://gist.githubusercontent.com/vivek-bala/d7774094a399ec3596c7/raw/715ff600aac09d37cb4ba970f301cbd86c10d8fb/enmd_grlsd_stampede_p16_e256',\n",
      "            'https://gist.githubusercontent.com/vivek-bala/4a6394c3031948d03052/raw/b01eb171c03824f90a24bd19bb8c8aee1ae90d6f/enmd_grlsd_stampede_p16_e512',\n",
      "            'https://gist.githubusercontent.com/vivek-bala/eb57ab0956561d018d33/raw/d61aeae38180598b5fc0e9b69091db29a39d9051/enmd_grlsd_stampede_p64_e64',\n",
      "            'https://gist.githubusercontent.com/vivek-bala/18b15fa9c7ded2e26dd1/raw/9a9ae140b89a1398d4eb955fd0037a2b4734d05c/enmd_grlsd_stampede_p64_e128',\n",
      "            'https://gist.githubusercontent.com/vivek-bala/849cf40ac45885a00696/raw/d4101f05ed210843d3665fce46ed95a3c74d09a3/enmd_grlsd_stampede_p64_e256',\n",
      "            'https://gist.githubusercontent.com/vivek-bala/2b0010ffb6073d637240/raw/c4fad14ac2aae09fa53b9cc81bf155f27614caf0/enmd_grlsd_stampede_p64_e512',\n",
      "            'https://gist.githubusercontent.com/vivek-bala/3fbe0fe1762919be07d2/raw/186cb0414ebec97764400e08d126b9a043ca3d8d/enmd_grlsd_stampede_p256_e256',\n",
      "            'https://gist.githubusercontent.com/vivek-bala/5444cc0248d4effe00c6/raw/778533184bc9887f3f55b27d521b043ed328b44b/enmd_grlsd_stampede_p256_e512']\n",
      "    \n",
      "    p16e16 = []\n",
      "    p16e16.extend(timer(urls[0],16,16))\n",
      "    \n",
      "    p16e32 = []\n",
      "    p16e32.extend(timer(urls[1],16,32))\n",
      "    \n",
      "    p16e64 = []\n",
      "    p16e64.extend(timer(urls[2],16,64))\n",
      "    \n",
      "    p16e128 = []\n",
      "    p16e128.extend(timer(urls[3],16,128))\n",
      "    \n",
      "    p16e256 = []\n",
      "    p16e256.extend(timer(urls[4],16,256))\n",
      "    \n",
      "    p16e512 = []\n",
      "    p16e512.extend(timer(urls[5],16,512))\n",
      "    \n",
      "    p64e64 = []\n",
      "    p64e64.extend(timer(urls[6],64,64))\n",
      "    \n",
      "    p64e128 = []\n",
      "    p64e128.extend(timer(urls[7],64,128))\n",
      "    \n",
      "    p64e256 = []\n",
      "    p64e256.extend(timer(urls[8],64,256))\n",
      "    \n",
      "    p64e512 = []\n",
      "    p64e512.extend(timer(urls[8],64,512))\n",
      "    \n",
      "    p256e256 = []\n",
      "    p256e256.extend(timer(urls[9],256,512))\n",
      "    \n",
      "    p256e512 = []\n",
      "    p256e512.extend(timer(urls[10],512,512))\n",
      "    \n",
      "    data = [p16e16,p16e32,p16e64,p16e128,p16e256,p16e512,p64e64,p64e128,p64e256,p64e512,p256e256,p256e512]\n",
      "    \n",
      "    df = pd.DataFrame(data,columns=['sim1','ana1','sim2','ana2'],\n",
      "                      index=['16/16','16/32','16/64','16/128','16/256','16/512','64/64','64/128','64/256','64/512','256/256','256/512'])\n",
      "    df.title = 'GRLSD on Stampede - 1000 configurations'\n",
      "    ax = df.plot(kind='bar',stacked=True)\n",
      "    \n",
      "    ax.set_xlabel('Pilot Size/Ensemble Members')\n",
      "    ax.set_ylabel('Execution Time (seconds)')\n",
      "    "
     ],
     "language": "python",
     "metadata": {},
     "outputs": [],
     "prompt_number": 8
    },
    {
     "cell_type": "code",
     "collapsed": false,
     "input": [
      "%matplotlib"
     ],
     "language": "python",
     "metadata": {},
     "outputs": [
      {
       "output_type": "stream",
       "stream": "stdout",
       "text": [
        "Using matplotlib backend: TkAgg\n"
       ]
      }
     ],
     "prompt_number": 6
    },
    {
     "cell_type": "code",
     "collapsed": false,
     "input": [
      "unit,start,end,step,itr,inst = data[1].split(';')"
     ],
     "language": "python",
     "metadata": {},
     "outputs": [],
     "prompt_number": 14
    },
    {
     "cell_type": "code",
     "collapsed": false,
     "input": [
      "print unit,start,end,step,itr,inst"
     ],
     "language": "python",
     "metadata": {},
     "outputs": [
      {
       "output_type": "stream",
       "stream": "stdout",
       "text": [
        "54e14ce82330e00f08bd3e08  2015-02-16 01:50:34.422000  2015-02-16 01:51:33.390000  sim  1  1\n",
        "\n"
       ]
      }
     ],
     "prompt_number": 15
    },
    {
     "cell_type": "code",
     "collapsed": false,
     "input": [
      "print (start - end).total_seconds()"
     ],
     "language": "python",
     "metadata": {},
     "outputs": [
      {
       "ename": "TypeError",
       "evalue": "unsupported operand type(s) for -: 'str' and 'str'",
       "output_type": "pyerr",
       "traceback": [
        "\u001b[1;31m---------------------------------------------------------------------------\u001b[0m\n\u001b[1;31mTypeError\u001b[0m                                 Traceback (most recent call last)",
        "\u001b[1;32m<ipython-input-16-e189c3566c32>\u001b[0m in \u001b[0;36m<module>\u001b[1;34m()\u001b[0m\n\u001b[1;32m----> 1\u001b[1;33m \u001b[1;32mprint\u001b[0m \u001b[1;33m(\u001b[0m\u001b[0mstart\u001b[0m \u001b[1;33m-\u001b[0m \u001b[0mend\u001b[0m\u001b[1;33m)\u001b[0m\u001b[1;33m.\u001b[0m\u001b[0mtotal_seconds\u001b[0m\u001b[1;33m(\u001b[0m\u001b[1;33m)\u001b[0m\u001b[1;33m\u001b[0m\u001b[0m\n\u001b[0m",
        "\u001b[1;31mTypeError\u001b[0m: unsupported operand type(s) for -: 'str' and 'str'"
       ]
      }
     ],
     "prompt_number": 16
    },
    {
     "cell_type": "code",
     "collapsed": false,
     "input": [
      "print start.total_seconds()"
     ],
     "language": "python",
     "metadata": {},
     "outputs": [
      {
       "ename": "AttributeError",
       "evalue": "'str' object has no attribute 'total_seconds'",
       "output_type": "pyerr",
       "traceback": [
        "\u001b[1;31m---------------------------------------------------------------------------\u001b[0m\n\u001b[1;31mAttributeError\u001b[0m                            Traceback (most recent call last)",
        "\u001b[1;32m<ipython-input-17-e65b568b074b>\u001b[0m in \u001b[0;36m<module>\u001b[1;34m()\u001b[0m\n\u001b[1;32m----> 1\u001b[1;33m \u001b[1;32mprint\u001b[0m \u001b[0mstart\u001b[0m\u001b[1;33m.\u001b[0m\u001b[0mtotal_seconds\u001b[0m\u001b[1;33m(\u001b[0m\u001b[1;33m)\u001b[0m\u001b[1;33m\u001b[0m\u001b[0m\n\u001b[0m",
        "\u001b[1;31mAttributeError\u001b[0m: 'str' object has no attribute 'total_seconds'"
       ]
      }
     ],
     "prompt_number": 17
    },
    {
     "cell_type": "code",
     "collapsed": false,
     "input": [
      "import datetime\n",
      "datetime.datetime.strptime(start.strip(), \"%Y-%m-%d %H:%M:%S.%f\")"
     ],
     "language": "python",
     "metadata": {},
     "outputs": [
      {
       "metadata": {},
       "output_type": "pyout",
       "prompt_number": 19,
       "text": [
        "datetime.datetime(2015, 2, 16, 1, 50, 34, 422000)"
       ]
      }
     ],
     "prompt_number": 19
    },
    {
     "cell_type": "raw",
     "metadata": {},
     "source": [
      "start = datetime.datetime.strptime(start.strip(), \"%Y-%m-%d %H:%M:%S.%f\")"
     ]
    },
    {
     "cell_type": "code",
     "collapsed": false,
     "input": [
      "print start"
     ],
     "language": "python",
     "metadata": {},
     "outputs": [
      {
       "output_type": "stream",
       "stream": "stdout",
       "text": [
        " 2015-02-16 01:50:34.422000\n"
       ]
      }
     ],
     "prompt_number": 20
    },
    {
     "cell_type": "code",
     "collapsed": false,
     "input": [
      "datetime.datetime.strptime(end.strip(), \"%Y-%m-%d %H:%M:%S.%f\")"
     ],
     "language": "python",
     "metadata": {},
     "outputs": [
      {
       "ename": "AttributeError",
       "evalue": "'datetime.datetime' object has no attribute 'strip'",
       "output_type": "pyerr",
       "traceback": [
        "\u001b[1;31m---------------------------------------------------------------------------\u001b[0m\n\u001b[1;31mAttributeError\u001b[0m                            Traceback (most recent call last)",
        "\u001b[1;32m<ipython-input-24-c50d48b99a64>\u001b[0m in \u001b[0;36m<module>\u001b[1;34m()\u001b[0m\n\u001b[1;32m----> 1\u001b[1;33m \u001b[0mdatetime\u001b[0m\u001b[1;33m.\u001b[0m\u001b[0mdatetime\u001b[0m\u001b[1;33m.\u001b[0m\u001b[0mstrptime\u001b[0m\u001b[1;33m(\u001b[0m\u001b[0mend\u001b[0m\u001b[1;33m.\u001b[0m\u001b[0mstrip\u001b[0m\u001b[1;33m(\u001b[0m\u001b[1;33m)\u001b[0m\u001b[1;33m,\u001b[0m \u001b[1;34m\"%Y-%m-%d %H:%M:%S.%f\"\u001b[0m\u001b[1;33m)\u001b[0m\u001b[1;33m\u001b[0m\u001b[0m\n\u001b[0m",
        "\u001b[1;31mAttributeError\u001b[0m: 'datetime.datetime' object has no attribute 'strip'"
       ]
      }
     ],
     "prompt_number": 24
    },
    {
     "cell_type": "code",
     "collapsed": false,
     "input": [
      "print (start - end).total_seconds()"
     ],
     "language": "python",
     "metadata": {},
     "outputs": [
      {
       "ename": "TypeError",
       "evalue": "unsupported operand type(s) for -: 'str' and 'datetime.datetime'",
       "output_type": "pyerr",
       "traceback": [
        "\u001b[1;31m---------------------------------------------------------------------------\u001b[0m\n\u001b[1;31mTypeError\u001b[0m                                 Traceback (most recent call last)",
        "\u001b[1;32m<ipython-input-22-e189c3566c32>\u001b[0m in \u001b[0;36m<module>\u001b[1;34m()\u001b[0m\n\u001b[1;32m----> 1\u001b[1;33m \u001b[1;32mprint\u001b[0m \u001b[1;33m(\u001b[0m\u001b[0mstart\u001b[0m \u001b[1;33m-\u001b[0m \u001b[0mend\u001b[0m\u001b[1;33m)\u001b[0m\u001b[1;33m.\u001b[0m\u001b[0mtotal_seconds\u001b[0m\u001b[1;33m(\u001b[0m\u001b[1;33m)\u001b[0m\u001b[1;33m\u001b[0m\u001b[0m\n\u001b[0m",
        "\u001b[1;31mTypeError\u001b[0m: unsupported operand type(s) for -: 'str' and 'datetime.datetime'"
       ]
      }
     ],
     "prompt_number": 22
    },
    {
     "cell_type": "code",
     "collapsed": false,
     "input": [
      "print end"
     ],
     "language": "python",
     "metadata": {},
     "outputs": [
      {
       "output_type": "stream",
       "stream": "stdout",
       "text": [
        "2015-02-16 01:51:33.390000\n"
       ]
      }
     ],
     "prompt_number": 23
    },
    {
     "cell_type": "code",
     "collapsed": false,
     "input": [
      "print "
     ],
     "language": "python",
     "metadata": {},
     "outputs": []
    }
   ],
   "metadata": {}
  }
 ]
}